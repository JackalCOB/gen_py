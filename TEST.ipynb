{
 "cells": [
  {
   "cell_type": "code",
   "execution_count": 6,
   "metadata": {},
   "outputs": [
    {
     "name": "stdout",
     "output_type": "stream",
     "text": [
      "['modules']\n"
     ]
    }
   ],
   "source": [
    "# setup.py\n",
    "from setuptools import setup, find_packages\n",
    "\n",
    "print(find_packages())  # Add this line to see what packages are found\n",
    "\n",
    "from modules.general_py_functions import *"
   ]
  },
  {
   "cell_type": "code",
   "execution_count": 7,
   "metadata": {},
   "outputs": [
    {
     "name": "stdout",
     "output_type": "stream",
     "text": [
      "\u001b[34m\u001b[1mTEST                    \u001b[0m\u001b[34m\u001b[1mPackage\u001b[0m\n"
     ]
    }
   ],
   "source": [
    "print_format([\"TEST\", \"Package\"], pad_width=[24,0])"
   ]
  }
 ],
 "metadata": {
  "kernelspec": {
   "display_name": "Python 3",
   "language": "python",
   "name": "python3"
  },
  "language_info": {
   "codemirror_mode": {
    "name": "ipython",
    "version": 3
   },
   "file_extension": ".py",
   "mimetype": "text/x-python",
   "name": "python",
   "nbconvert_exporter": "python",
   "pygments_lexer": "ipython3",
   "version": "3.11.9"
  }
 },
 "nbformat": 4,
 "nbformat_minor": 2
}
